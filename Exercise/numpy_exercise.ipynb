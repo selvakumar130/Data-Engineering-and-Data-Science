{
 "cells": [
  {
   "cell_type": "code",
   "execution_count": null,
   "metadata": {},
   "outputs": [],
   "source": [
    "import numpy as np\n",
    "x = np.array([1, 2, 3, 4])\n",
    "print(\"Original array:\")\n",
    "print(x)\n",
    "print(\"Test if none of the elements of the said array is zero:\")\n",
    "print(np.all(x))\n",
    "x = np.array([0, 1, 2, 3])\n",
    "print(\"Original array:\")\n",
    "print(x)\n",
    "print(\"Test if none of the elements of the said array is zero:\")\n",
    "print(np.all(x))\n"
   ]
  },
  {
   "attachments": {},
   "cell_type": "markdown",
   "metadata": {},
   "source": [
    "## Sample Output:\n",
    "\tOriginal array :\n",
    "\t[1 2 3 4]\n",
    "\tTest if none of the element of the said array is zero :\n",
    "\tTrue\n",
    "\tOriginal array:\n",
    "\t[0 1 2 3]\n",
    "\tTest if none of the elements of the said array is zero :\n",
    "\tFalse\n"
   ]
  },
  {
   "cell_type": "code",
   "execution_count": null,
   "metadata": {},
   "outputs": [],
   "source": [
    "import numpy as np\n",
    "x = np.array([3, 5])\n",
    "y = np.array([2, 5])\n",
    "print(\"Original numbers:\")\n",
    "print(x)\n",
    "print(y)\n",
    "print(\"Comparison - greater\")\n",
    "print(np.greater(x, y))\n",
    "print(\"Comparison - greater_equal\")\n",
    "print(np.greater_equal(x, y))\n",
    "print(\"Comparison - less\")\n",
    "print(np.less(x, y))\n",
    "print(\"Comparison - less_equal\")\n",
    "print(np.less_equal(x, y))\n"
   ]
  },
  {
   "attachments": {},
   "cell_type": "markdown",
   "metadata": {},
   "source": [
    "## Sample Output:\t\n",
    "##   Original numbers:\n",
    "##   [3  5]\n",
    "##   [2  5]\n",
    "##   Comparison – greater\n",
    "##   [True  False]\n",
    "##   Comparison – greater_equal\n",
    "##   [True  True]\n",
    "##   Comparison – less\n",
    "##   [False  False]\n",
    "##   Comparison - less_equal\n",
    "##   [False  True]\n"
   ]
  },
  {
   "cell_type": "markdown",
   "metadata": {},
   "source": []
  }
 ],
 "metadata": {
  "kernelspec": {
   "display_name": "Python 3",
   "language": "python",
   "name": "python3"
  },
  "language_info": {
   "name": "python",
   "version": "3.10.10"
  },
  "orig_nbformat": 4,
  "vscode": {
   "interpreter": {
    "hash": "971ef5610a1d4359459f673907fc0d6d4cda459997b3ede3f51327d8d60ab2da"
   }
  }
 },
 "nbformat": 4,
 "nbformat_minor": 2
}
